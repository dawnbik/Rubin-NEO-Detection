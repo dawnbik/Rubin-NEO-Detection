{
 "cells": [
  {
   "cell_type": "markdown",
   "id": "5005d6b6-3996-4bea-b19f-3b802a281636",
   "metadata": {},
   "source": [
    "# NEO Orbit Visualization Study"
   ]
  },
  {
   "cell_type": "markdown",
   "id": "b53a0e09-ef06-4237-b5e7-cabded5b7a79",
   "metadata": {},
   "source": [
    "First we'll download NEO orbital data from JPL Horizons -- Get to it to figure out what columns are neccessary.\n",
    "\n",
    "Then figure out how to make a 3D plot\n",
    "> with a dark background with NEO orbits and where the orbits are at time t (possibly add an interactive slider?)\n",
    "\n",
    "> plot must be able to zoom in & out (again, interactive)"
   ]
  },
  {
   "cell_type": "markdown",
   "id": "f149c887-f6cb-4d33-9cdf-3026cb47d504",
   "metadata": {},
   "source": [
    "might need to consult others for data format before we can integrate visualization tool into main branch"
   ]
  },
  {
   "cell_type": "code",
   "execution_count": 3,
   "id": "21b8917a-fd75-431e-916f-d9d41a51d2f0",
   "metadata": {},
   "outputs": [],
   "source": [
    "# email prof. Juric to ask about whether I should be concerned about JPL data only or the format that sorcha accepts"
   ]
  }
 ],
 "metadata": {
  "kernelspec": {
   "display_name": "Python 3 (ipykernel)",
   "language": "python",
   "name": "python3"
  },
  "language_info": {
   "codemirror_mode": {
    "name": "ipython",
    "version": 3
   },
   "file_extension": ".py",
   "mimetype": "text/x-python",
   "name": "python",
   "nbconvert_exporter": "python",
   "pygments_lexer": "ipython3",
   "version": "3.9.10"
  }
 },
 "nbformat": 4,
 "nbformat_minor": 5
}
